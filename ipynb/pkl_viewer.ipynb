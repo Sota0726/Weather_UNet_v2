{
 "cells": [
  {
   "cell_type": "code",
   "execution_count": 3,
   "metadata": {
    "tags": []
   },
   "outputs": [
    {
     "output_type": "stream",
     "name": "stdout",
     "text": "<class 'pandas.core.frame.DataFrame'>\nInt64Index: 919534 entries, 0 to 1094117\nData columns (total 55 columns):\n #   Column             Non-Null Count   Dtype  \n---  ------             --------------   -----  \n 0   photo              919534 non-null  object \n 1   orig_date          919534 non-null  object \n 2   photo_geo          919534 non-null  object \n 3   photo_tz           919534 non-null  object \n 4   p_unixtime         919534 non-null  float64\n 5   s_datetime         919534 non-null  object \n 6   utc_date           919534 non-null  object \n 7   unix_date          919534 non-null  float64\n 8   local_date         919534 non-null  object \n 9   location           919534 non-null  object \n 10  lon                919534 non-null  float64\n 11  lat                919534 non-null  float64\n 12  moon_illumination  919534 non-null  object \n 13  moon_phase         919534 non-null  object \n 14  moonrise           919534 non-null  object \n 15  moonset            919534 non-null  object \n 16  sunrise            919534 non-null  object \n 17  sunset             919534 non-null  object \n 18  avgtempC           919534 non-null  int64  \n 19  avgtempF           919534 non-null  int64  \n 20  date               919534 non-null  object \n 21  DewPointC          919534 non-null  int64  \n 22  DewPointF          919534 non-null  object \n 23  FeelsLikeC         919534 non-null  int64  \n 24  FeelsLikeF         919534 non-null  int64  \n 25  HeatIndexC         919534 non-null  int64  \n 26  HeatIndexF         919534 non-null  int64  \n 27  UTCdate            919534 non-null  object \n 28  UTCtime            919534 non-null  int64  \n 29  WindChillC         919534 non-null  object \n 30  WindChillF         919534 non-null  int64  \n 31  WindGustKmph       919534 non-null  object \n 32  WindGustMiles      919534 non-null  object \n 33  cloudcover         919534 non-null  float64\n 34  humidity           919534 non-null  float64\n 35  precipInches       919534 non-null  float64\n 36  precipMM           919534 non-null  float64\n 37  pressure           919534 non-null  int64  \n 38  pressureInches     919534 non-null  int64  \n 39  tempC              919534 non-null  int64  \n 40  tempF              919534 non-null  int64  \n 41  time               919534 non-null  int64  \n 42  uvIndex            919534 non-null  int64  \n 43  visibility         919534 non-null  int64  \n 44  visibilityMiles    919534 non-null  int64  \n 45  weatherCode        919534 non-null  int64  \n 46  weatherDesc        919534 non-null  object \n 47  weatherIconUrl     919534 non-null  object \n 48  winddir16Point     919534 non-null  object \n 49  winddirDegree      919534 non-null  int64  \n 50  windspeedKmph      919534 non-null  int64  \n 51  windspeedMiles     919534 non-null  int64  \n 52  weatherDesc.1      919534 non-null  object \n 53  p-s_dist           919534 non-null  float64\n 54  time_diff          919534 non-null  float64\ndtypes: float64(10), int64(21), object(24)\nmemory usage: 392.9+ MB\n"
    }
   ],
   "source": [
    "import pandas as pd\n",
    "import os\n",
    "\n",
    "df = pd.read_pickle('/mnt/fs2/2019/okada/outdoor_all_dbdate_wwo_weather_selected.pkl')\n",
    "df.info()"
   ]
  },
  {
   "cell_type": "code",
   "execution_count": 4,
   "metadata": {
    "tags": []
   },
   "outputs": [
    {
     "output_type": "stream",
     "name": "stdout",
     "text": "<class 'pandas.core.frame.DataFrame'>\nInt64Index: 1094118 entries, 0 to 1094117\nData columns (total 55 columns):\n #   Column             Non-Null Count    Dtype  \n---  ------             --------------    -----  \n 0   photo              1094118 non-null  object \n 1   orig_date          1094118 non-null  object \n 2   photo_geo          1094118 non-null  object \n 3   photo_tz           1094118 non-null  object \n 4   p_unixtime         1094118 non-null  float64\n 5   s_datetime         1094118 non-null  object \n 6   utc_date           1094118 non-null  object \n 7   unix_date          1094118 non-null  float64\n 8   local_date         1094118 non-null  object \n 9   location           1094118 non-null  object \n 10  lon                1094118 non-null  float64\n 11  lat                1094118 non-null  float64\n 12  moon_illumination  1094118 non-null  object \n 13  moon_phase         1094118 non-null  object \n 14  moonrise           1094118 non-null  object \n 15  moonset            1094118 non-null  object \n 16  sunrise            1094118 non-null  object \n 17  sunset             1094118 non-null  object \n 18  avgtempC           1094118 non-null  int64  \n 19  avgtempF           1094118 non-null  int64  \n 20  date               1094118 non-null  object \n 21  DewPointC          1094118 non-null  int64  \n 22  DewPointF          1094118 non-null  object \n 23  FeelsLikeC         1094118 non-null  int64  \n 24  FeelsLikeF         1094118 non-null  int64  \n 25  HeatIndexC         1094118 non-null  int64  \n 26  HeatIndexF         1094118 non-null  int64  \n 27  UTCdate            1094118 non-null  object \n 28  UTCtime            1094118 non-null  int64  \n 29  WindChillC         1094118 non-null  object \n 30  WindChillF         1094118 non-null  int64  \n 31  WindGustKmph       1094118 non-null  object \n 32  WindGustMiles      1094118 non-null  object \n 33  cloudcover         1094118 non-null  float64\n 34  humidity           1094118 non-null  float64\n 35  precipInches       1094118 non-null  float64\n 36  precipMM           1094118 non-null  float64\n 37  pressure           1094118 non-null  int64  \n 38  pressureInches     1094118 non-null  int64  \n 39  tempC              1094118 non-null  int64  \n 40  tempF              1094118 non-null  int64  \n 41  time               1094118 non-null  int64  \n 42  uvIndex            1094118 non-null  int64  \n 43  visibility         1094118 non-null  int64  \n 44  visibilityMiles    1094118 non-null  int64  \n 45  weatherCode        1094118 non-null  int64  \n 46  weatherDesc        1094118 non-null  object \n 47  weatherIconUrl     1094118 non-null  object \n 48  winddir16Point     1094118 non-null  object \n 49  winddirDegree      1094118 non-null  int64  \n 50  windspeedKmph      1094118 non-null  int64  \n 51  windspeedMiles     1094118 non-null  int64  \n 52  weatherDesc.1      1094118 non-null  object \n 53  p-s_dist           1094118 non-null  float64\n 54  time_diff          1094118 non-null  float64\ndtypes: float64(10), int64(21), object(24)\nmemory usage: 467.5+ MB\n"
    }
   ],
   "source": [
    "df = pd.read_pickle('/mnt/fs2/2019/okada/outdoor_all_dbdate_wwo_weather.pkl')\n",
    "df.info()"
   ]
  },
  {
   "cell_type": "code",
   "execution_count": null,
   "metadata": {},
   "outputs": [],
   "source": []
  }
 ],
 "metadata": {
  "kernelspec": {
   "display_name": "Python 3",
   "language": "python",
   "name": "python3"
  },
  "language_info": {
   "codemirror_mode": {
    "name": "ipython",
    "version": 3
   },
   "file_extension": ".py",
   "mimetype": "text/x-python",
   "name": "python",
   "nbconvert_exporter": "python",
   "pygments_lexer": "ipython3",
   "version": "3.6.9-final"
  }
 },
 "nbformat": 4,
 "nbformat_minor": 4
}